{
  "nbformat": 4,
  "nbformat_minor": 0,
  "metadata": {
    "colab": {
      "provenance": []
    },
    "kernelspec": {
      "name": "python3",
      "display_name": "Python 3"
    },
    "language_info": {
      "name": "python"
    }
  },
  "cells": [
    {
      "cell_type": "markdown",
      "source": [
        "#Questions & Answers[THEORY]"
      ],
      "metadata": {
        "id": "9tU-7iM2NTED"
      }
    },
    {
      "cell_type": "markdown",
      "source": [
        "**Q1-What is a RESTful API?**\n",
        "\n",
        "> A RESTful API (Representational State Transfer) is an architectural style for designing networked applications, enabling communication between systems over the internet. It uses standard HTTP methods (GET, POST, PUT, DELETE, etc.) to perform operations on resources, which are identified by unique URLs.\n"
      ],
      "metadata": {
        "id": "XGJu4y4jNTAg"
      }
    },
    {
      "cell_type": "markdown",
      "source": [
        "**Q2-Explain the concept of API specification.**\n",
        "\n",
        ">An API specification is a formal document or standard that defines the structure, functionality, and behavior of an API (Application Programming Interface), serving as a blueprint for developers to understand how to interact with it. For RESTful APIs, it outlines how requests and responses should be formatted, the endpoints available, and the operations supported, ensuring consistency and clarity for both API providers and consumers."
      ],
      "metadata": {
        "id": "lcK1VKvONS94"
      }
    },
    {
      "cell_type": "markdown",
      "source": [
        "**Q3-What is Flask, and why is it popular for building APIs?**\n",
        "\n",
        "> Flask is a lightweight Python web framework designed for simplicity and flexibility, making it ideal for building web applications and RESTful APIs. It’s a microframework, meaning it provides only essential tools like routing and request handling, built on Werkzeug for HTTP processing and Jinja2 for templating, though templating is less relevant for APIs. Its minimalistic design lets developers customize their setup without rigid constraints.Flask’s popularity for APIs comes from its ease of use, allowing developers to create endpoints with minimal code, and its flexibility, which supports tailored solutions for small to medium projects or microservices. It seamlessly handles RESTful principles, like HTTP methods and JSON responses, and integrates with Python libraries for tasks like database management or authentication. The framework’s low overhead ensures fast performance, and its active community provides extensive resources. Flask excels in rapid prototyping and lightweight applications, though it requires more manual setup for complex systems compared to heavier frameworks like Django."
      ],
      "metadata": {
        "id": "VgZ8ioyTNS7J"
      }
    },
    {
      "cell_type": "markdown",
      "source": [
        "**Q4-What is routing in Flask?**\n",
        "\n",
        "> Routing in Flask refers to the process of mapping URLs (or endpoints) to specific Python functions, called view functions, that handle HTTP requests and return responses. It determines how Flask directs incoming web requests to the appropriate code based on the URL and HTTP method (e.g., GET, POST). Routing is a core feature of Flask, enabling developers to define the structure and behavior of a web application or API."
      ],
      "metadata": {
        "id": "wds1oaFZNS41"
      }
    },
    {
      "cell_type": "markdown",
      "source": [
        "**Q5-How do you create a simple Flask application?**\n",
        "\n",
        ">To create a simple Flask application, you write a Python script that initializes a Flask app, defines routes to handle HTTP requests, and runs a web server. Below is a concise guide with example code for a basic Flask app with a RESTful API endpoint.First, ensure Python (3.6 or higher) is installed, then install Flask using pip install flask. Create a file named app.py. In it, import the Flask class, create an app instance, and define routes using the @app.route() decorator to map URLs to functions that return responses, such as JSON for APIs. Finally, run the app with a development server."
      ],
      "metadata": {
        "id": "8hlcejcTNS19"
      }
    },
    {
      "cell_type": "markdown",
      "source": [
        "**Q6-What are HTTP methods used in RESTful APIs?**\n",
        "\n",
        "> HTTP methods are standardized verbs used in RESTful APIs to define the type of operation a client wants to perform on a resource. They align with the principles of REST (Representational State Transfer) to enable consistent and predictable interactions with resources identified by URLs."
      ],
      "metadata": {
        "id": "OZtCnMVgNSzl"
      }
    },
    {
      "cell_type": "markdown",
      "source": [
        "**Q7-What is the purpose of the @app.route() decorator in Flask?**\n",
        "\n",
        "> The @app.route() decorator in Flask maps a URL path to a Python function that handles HTTP requests for that path. It defines the endpoint (e.g., / or /api/users) and specifies which HTTP methods (e.g., GET, POST) the function responds to. When a client sends a request to the URL, Flask triggers the associated function, which processes the request and returns a response, such as JSON for APIs. This enables routing in Flask, allowing developers to create web pages or RESTful API endpoints by linking URLs to specific logic."
      ],
      "metadata": {
        "id": "YmNmPaCvNSwr"
      }
    },
    {
      "cell_type": "markdown",
      "source": [
        "**Q8-What is the difference between GET and POST HTTP methods?**\n",
        "\n",
        "> The GET and POST HTTP methods serve different purposes in RESTful APIs and web interactions. GET retrieves data from a server without modifying it, using query parameters in the URL (e.g., `/api/users?id=123`), making it safe, idempotent, and cacheable but less secure for sensitive data due to URL visibility. POST sends data in the request body (e.g., JSON like `{\"name\": \"Alice\"}`) to create a resource or trigger an action, altering server state, so it’s not safe, not idempotent, and not typically cached, but better for sensitive or large data. In Flask, GET might fetch a user with `@app.route('/api/users/<id>', methods=['GET'])`, while POST creates a user with `@app.route('/api/users', methods=['POST'])` and `request.get_json()`."
      ],
      "metadata": {
        "id": "xvAGwdDPNSuI"
      }
    },
    {
      "cell_type": "markdown",
      "source": [
        "**Q9-How do you handle errors in Flask APIs?**\n",
        "\n",
        "> In Flask APIs, error handling ensures the application gracefully manages issues like invalid requests or server failures, returning clear, REST-compliant JSON responses with appropriate HTTP status codes. You primarily use the @app.errorhandler decorator to define custom handlers for specific HTTP status codes or exceptions. For example, to handle 404 Not Found errors, you can define a function that returns a JSON error message with a 404 status:"
      ],
      "metadata": {
        "id": "prMCmJ49NSrT"
      }
    },
    {
      "cell_type": "markdown",
      "source": [
        "**Q10-How do you connect Flask to a SQL database?**\n",
        "\n",
        "> Connecting a Flask application to a SQL database allows you to store and manage data for your RESTful API, enabling dynamic operations like creating, reading, updating, and deleting records. The process involves selecting a database, installing necessary Python libraries, configuring the connection, and integrating it with Flask routes to handle database operations. Below is a concise explanation with an example using SQLite and SQLAlchemy, a popular ORM (Object-Relational Mapping) tool for Flask.\n"
      ],
      "metadata": {
        "id": "kqbTboAHNSob"
      }
    },
    {
      "cell_type": "markdown",
      "source": [
        "**Q11-What is the role of Flask-SQLAlchemy?**\n",
        "\n",
        "> Flask-SQLAlchemy is an extension for Flask that simplifies integration with SQL databases by providing an Object-Relational Mapping (ORM) layer, built on top of SQLAlchemy, a powerful Python SQL toolkit. Its role in a Flask application is to streamline database operations, making it easier to connect to a database, define models, and perform CRUD (Create, Read, Update, Delete) operations while maintaining a Pythonic interface. Below is a concise explanation of its role, tailored to the context of building RESTful APIs with Flask, as discussed previously."
      ],
      "metadata": {
        "id": "9HRMlfiBNSlw"
      }
    },
    {
      "cell_type": "markdown",
      "source": [
        "**Q12-What are Flask blueprints, and how are they useful?**\n",
        "\n",
        "> Flask Blueprints are a feature of the Flask web framework that allow developers to organize and modularize their application by grouping related routes, templates, and static files into reusable components. They are particularly useful for building large or complex Flask applications, including RESTful APIs, by enabling better code organization, reusability, and scalability. Below is a concise explanation of Flask Blueprints and their utility, tailored to the context of Flask and RESTful APIs discussed previously."
      ],
      "metadata": {
        "id": "FQfqP50XNSjG"
      }
    },
    {
      "cell_type": "markdown",
      "source": [
        "**Q13-What is the purpose of Flask's request object?**\n",
        "\n",
        "> Flask's request object is a global object provided by the Flask framework to access and handle incoming HTTP request data within a view function. Its purpose is to give developers a convenient way to retrieve details about the client’s request, such as URL parameters, form data, JSON payloads, headers, and other request metadata, enabling dynamic processing in web applications and RESTful APIs. Below is a concise explanation of its role, tailored to the context of Flask and RESTful APIs discussed previously."
      ],
      "metadata": {
        "id": "oiGNVsfnNSgi"
      }
    },
    {
      "cell_type": "markdown",
      "source": [
        "**Q14-How do you create a RESTful API endpoint using Flask?**\n",
        "\n",
        "> Flask’s routing, the request object for handling incoming data, and often Flask-SQLAlchemy for database interactions, as discussed in your previous questions. Below is a concise guide to creating a RESTful API endpoint, with an example that integrates these concepts without using a pointwise format.To start, ensure you have Flask and Flask-SQLAlchemy installed (pip install flask flask-sqlalchemy). Create a Python file, e.g., app.py, and set up a Flask application. Configure Flask-SQLAlchemy to connect to a database (e.g., SQLite) for persistent data storage. Define a model to represent the resource (e.g., a User) and create the database. Then, use the @app.route() decorator to define an endpoint that handles specific HTTP methods, processes input via the request object, and returns JSON responses with appropriate HTTP status codes. Optionally, organize the endpoint in a Blueprint for modularity and handle errors for robustness."
      ],
      "metadata": {
        "id": "8u7fTne6NSd9"
      }
    },
    {
      "cell_type": "markdown",
      "source": [
        "**Q15-What is the purpose of Flask's jsonify() function?**\n",
        "\n",
        "> Flask’s `jsonify()` function is used to create a proper JSON response from Python data. It automatically converts Python dictionaries or lists into JSON, sets the correct content type (`application/json`), and ensures the response is correctly formatted for clients like browsers or APIs"
      ],
      "metadata": {
        "id": "pXAlNxHVNSa8"
      }
    },
    {
      "cell_type": "markdown",
      "source": [
        "**Q16-M Explain Flask’s url_for() function?**\n",
        "\n",
        "> Flask’s `url_for()` function is used to build dynamic URLs for your application. Instead of hardcoding links, you can pass the name of the view function and any required arguments, and `url_for()` will generate the correct URL for you. This makes your code more flexible and maintainable, especially if you later change route patterns. For example, if you have a route defined as `@app.route('/user/<username>')`, you can generate its URL in code or templates using `url_for('profile', username='Alice')`, which will return `/user/Alice`. This ensures that links stay consistent with the routes defined in your app."
      ],
      "metadata": {
        "id": "ZTpmqS-3NSWC"
      }
    },
    {
      "cell_type": "markdown",
      "source": [
        "**Q17- How does Flask handle static files (CSS, JavaScript, etc.)?**\n",
        "\n",
        ">Flask handles static files by serving them from a special folder named **`static`** inside your project directory. When you create this folder and place files like CSS, JavaScript, or images in it, Flask makes them accessible through the `/static/` URL path. For example, if you have a file called `style.css` inside the `static` folder, you can access it at `http://localhost:5000/static/style.css`. In templates, you usually use `url_for('static', filename='style.css')` to link to these files, which ensures the correct path is generated. This setup allows Flask to serve front-end assets easily without requiring additional configuration"
      ],
      "metadata": {
        "id": "xvIZ374yNSTj"
      }
    },
    {
      "cell_type": "markdown",
      "source": [
        "**Q18-What is an API specification, and how does it help in building a Flask API?**\n",
        "\n",
        "> An API specification is a detailed description of how an API should work. It defines the available endpoints, the request methods they support, the required inputs such as parameters or body data, and the structure of the responses. It may also include information about authentication, error handling, and data formats like JSON.\n",
        "\n",
        "When building a Flask API, the specification acts as a blueprint that guides development. It ensures both backend developers and frontend or client developers understand exactly how the API should behave, reducing confusion and mistakes. It also makes it easier to test and document the API, since the rules for communication are clearly defined in advance. In collaborative projects, having an API specification allows teams to work in parallel—clients can start building against the documented API before the backend is fully implemented."
      ],
      "metadata": {
        "id": "hnhEG7b1NSQk"
      }
    },
    {
      "cell_type": "markdown",
      "source": [
        "**Q19-What are HTTP status codes, and why are they important in a Flask API?**\n",
        "\n",
        "> HTTP status codes are standardized three-digit numbers sent by a server in response to a client’s request to indicate the outcome of that request. They communicate whether the request was successful, if there was an error, or if some further action is needed. In a Flask API, these codes are important because they provide clear feedback to the client about what happened. For example, a `200` code means the request was successful, `404` means the requested resource was not found, and `500` signals a server error. By using the right status codes, a Flask API becomes easier to understand, debug, and integrate with, since clients can reliably determine how to handle different responses"
      ],
      "metadata": {
        "id": "dD711CDONSOj"
      }
    },
    {
      "cell_type": "markdown",
      "source": [
        "**Q20-How do you handle POST requests in Flask?**\n",
        "\n",
        "> In Flask, you handle POST requests by defining a route that accepts the `POST` method and then accessing the data sent in the request. For example, if a client submits form data or JSON, you can retrieve it inside the route function using `request.form` for form fields or `request.json` for JSON data. A typical setup involves importing `request` from Flask, creating a route with `methods=['POST']`, and then processing the incoming data. After handling the request, you return a response, often in JSON format using `jsonify()`. This allows your API to accept and process data sent from clients, such as login details, form submissions, or data to be stored in a database."
      ],
      "metadata": {
        "id": "0bBY6Zg8NSL3"
      }
    },
    {
      "cell_type": "markdown",
      "source": [
        "**Q21-How would you secure a Flask API?**\n",
        "\n",
        "> Securing a Flask API involves protecting it from unauthorized access, data leaks, and malicious activity. You typically do this by requiring authentication so that only trusted clients can use the API, for example through tokens, API keys, or OAuth. You also implement authorization to make sure users can only access the resources they’re allowed to. Using HTTPS is essential so that data traveling between the client and server is encrypted. Input validation and sanitization help prevent attacks like SQL injection or cross-site scripting, while rate limiting can stop abuse by restricting how many requests a client can make in a given time. It’s also important to handle errors carefully without exposing sensitive details, keep dependencies updated, and follow the principle of least privilege when accessing databases or external services. Altogether, these practices ensure the API remains safe, reliable, and trustworthy."
      ],
      "metadata": {
        "id": "_Lr33flSNSJG"
      }
    },
    {
      "cell_type": "markdown",
      "source": [
        "**Q22-What is the significance of the Flask-RESTful extension?**\n",
        "\n",
        "> The Flask-RESTful extension simplifies the process of building REST APIs with Flask by providing tools and abstractions that reduce boilerplate code. Instead of manually handling routes and request parsing, it allows you to structure your API around resources, each represented as a class with methods corresponding to HTTP verbs like GET, POST, PUT, and DELETE. It also includes built-in support for input validation, request parsing, and standardized error handling, which makes your code cleaner and more consistent. By organizing an API this way, Flask-RESTful makes it easier to develop, scale, and maintain RESTful services while following common design patterns"
      ],
      "metadata": {
        "id": "wlvxJTl6NSGg"
      }
    },
    {
      "cell_type": "markdown",
      "source": [
        "**Q23-What is the role of Flask’s session object?**\n",
        "\n",
        "> Flask’s session object is used to store information about a user across multiple requests. Since HTTP is stateless, the server doesn’t remember anything between requests, but the session object provides a way to persist data temporarily for each user. It stores data on the server side but keeps a session identifier in the client’s browser using a secure cookie. This allows you to track things like login status, user preferences, or items in a shopping cart as the user navigates through the app. The data is signed with the app’s secret key to prevent tampering, making sessions both convenient and secure for maintaining state in a Flask application."
      ],
      "metadata": {
        "id": "EiINWjg3NSD2"
      }
    },
    {
      "cell_type": "markdown",
      "source": [
        "#Questions & Answers[PRACTICAL]"
      ],
      "metadata": {
        "id": "yqV5_IcTNSA8"
      }
    },
    {
      "cell_type": "markdown",
      "source": [
        "**Q1-How do you create a basic Flask application?**"
      ],
      "metadata": {
        "id": "Ub2YAI4YNR6-"
      }
    },
    {
      "cell_type": "code",
      "source": [
        "from flask import Flask\n",
        "\n",
        "app = Flask(__name__)\n",
        "\n",
        "@app.route('/')\n",
        "def home():\n",
        "    return \"Hello, Flask!\"\n",
        "\n",
        "if __name__ == '__main__':\n",
        "    app.run(debug=True)\n"
      ],
      "metadata": {
        "colab": {
          "base_uri": "https://localhost:8080/"
        },
        "id": "CBE3g9zlUKuJ",
        "outputId": "8282a390-63e8-41ec-a7f1-d062ded9f7f9"
      },
      "execution_count": null,
      "outputs": [
        {
          "output_type": "stream",
          "name": "stdout",
          "text": [
            " * Serving Flask app '__main__'\n",
            " * Debug mode: on\n"
          ]
        },
        {
          "output_type": "stream",
          "name": "stderr",
          "text": [
            "INFO:werkzeug:\u001b[31m\u001b[1mWARNING: This is a development server. Do not use it in a production deployment. Use a production WSGI server instead.\u001b[0m\n",
            " * Running on http://127.0.0.1:5000\n",
            "INFO:werkzeug:\u001b[33mPress CTRL+C to quit\u001b[0m\n",
            "INFO:werkzeug: * Restarting with watchdog (inotify)\n"
          ]
        }
      ]
    },
    {
      "cell_type": "markdown",
      "source": [
        "**Q2-How do you serve static files like images or CSS in Flask?**"
      ],
      "metadata": {
        "id": "wEOwVY15NR2L"
      }
    },
    {
      "cell_type": "code",
      "source": [
        "from flask import Flask, render_template, url_for\n",
        "\n",
        "app = Flask(__name__)\n",
        "\n",
        "@app.route('/')\n",
        "def home():\n",
        "    return render_template('index.html')\n",
        "\n",
        "if __name__ == '__main__':\n",
        "    app.run(debug=True)\n"
      ],
      "metadata": {
        "id": "K-fkpSuJUO31"
      },
      "execution_count": null,
      "outputs": []
    },
    {
      "cell_type": "markdown",
      "source": [
        "**Q3- How do you define different routes with different HTTP methods in Flask?**"
      ],
      "metadata": {
        "id": "KJ9EF3lwNRyv"
      }
    },
    {
      "cell_type": "code",
      "source": [
        "from flask import Flask, request\n",
        "\n",
        "app = Flask(__name__)\n",
        "\n",
        "@app.route('/hello', methods=['GET'])\n",
        "def hello():\n",
        "    return \"This is a GET request\"\n",
        "\n",
        "@app.route('/hello', methods=['POST'])\n",
        "def hello_post():\n",
        "    data = request.form.get('name')\n",
        "    return f\"Hello, {data}! (POST request)\"\n",
        "\n",
        "if __name__ == '__main__':\n",
        "    app.run(debug=True)\n"
      ],
      "metadata": {
        "id": "QGl4S6I9UP90"
      },
      "execution_count": null,
      "outputs": []
    },
    {
      "cell_type": "markdown",
      "source": [
        "**Q4- How do you render HTML templates in Flask?**"
      ],
      "metadata": {
        "id": "ViDfBOugNRwr"
      }
    },
    {
      "cell_type": "code",
      "source": [
        "from flask import Flask, render_template\n",
        "\n",
        "app = Flask(__name__)\n",
        "\n",
        "@app.route('/')\n",
        "def home():\n",
        "    return render_template('index.html', title=\"Flask App\", message=\"Hello from Flask!\")\n",
        "\n",
        "if __name__ == '__main__':\n",
        "    app.run(debug=True)\n"
      ],
      "metadata": {
        "id": "7BXRtXaxUQjh"
      },
      "execution_count": null,
      "outputs": []
    },
    {
      "cell_type": "markdown",
      "source": [
        "**Q5-How can you generate URLs for routes in Flask using url_for?**"
      ],
      "metadata": {
        "id": "v94Y2-p1NRtu"
      }
    },
    {
      "cell_type": "code",
      "source": [
        "from flask import Flask, url_for\n",
        "\n",
        "app = Flask(__name__)\n",
        "\n",
        "@app.route('/')\n",
        "def home():\n",
        "    return \"This is the home page\"\n",
        "\n",
        "@app.route('/user/<username>')\n",
        "def profile(username):\n",
        "    return f\"Hello, {username}!\"\n",
        "\n",
        "@app.route('/links')\n",
        "def links():\n",
        "    # Generate URLs dynamically\n",
        "    home_url = url_for('home')\n",
        "    profile_url = url_for('profile', username='Alice')\n",
        "    return f\"Home: {home_url} | Profile: {profile_url}\"\n",
        "\n",
        "if __name__ == '__main__':\n",
        "    app.run(debug=True)\n"
      ],
      "metadata": {
        "id": "YDjehhVPUQ9F"
      },
      "execution_count": null,
      "outputs": []
    },
    {
      "cell_type": "markdown",
      "source": [
        "**Q6-How do you handle forms in Flask?**"
      ],
      "metadata": {
        "id": "vDTOtgolNRrY"
      }
    },
    {
      "cell_type": "code",
      "source": [
        "from flask import Flask, render_template, request\n",
        "\n",
        "app = Flask(__name__)\n",
        "\n",
        "@app.route('/form')\n",
        "def form():\n",
        "    return render_template('form.html')\n",
        "\n",
        "@app.route('/submit', methods=['POST'])\n",
        "def submit():\n",
        "    name = request.form.get('name')   # Access form data\n",
        "    email = request.form.get('email')\n",
        "    return render_template('result.html', name=name, email=email)\n",
        "\n",
        "if __name__ == '__main__':\n",
        "    app.run(debug=True)\n"
      ],
      "metadata": {
        "id": "bqnj_icgURTO"
      },
      "execution_count": null,
      "outputs": []
    },
    {
      "cell_type": "markdown",
      "source": [
        "**Q7-How can you validate form data in Flask?**"
      ],
      "metadata": {
        "id": "Ea6svC6JNRoy"
      }
    },
    {
      "cell_type": "code",
      "source": [
        "from flask import Flask, render_template, request\n",
        "\n",
        "app = Flask(__name__)\n",
        "\n",
        "@app.route('/form')\n",
        "def form():\n",
        "    return render_template('form.html')\n",
        "\n",
        "@app.route('/submit', methods=['POST'])\n",
        "def submit():\n",
        "    name = request.form.get('name')\n",
        "    email = request.form.get('email')\n",
        "\n",
        "    errors = []\n",
        "    if not name or name.strip() == \"\":\n",
        "        errors.append(\"Name is required.\")\n",
        "    if not email or \"@\" not in email:\n",
        "        errors.append(\"Valid email is required.\")\n",
        "\n",
        "    if errors:\n",
        "        return render_template('form.html', errors=errors)\n",
        "\n",
        "    return f\"Form submitted successfully! Name: {name}, Email: {email}\"\n",
        "\n",
        "if __name__ == '__main__':\n",
        "    app.run(debug=True)\n"
      ],
      "metadata": {
        "id": "F2Zrq6quURte"
      },
      "execution_count": null,
      "outputs": []
    },
    {
      "cell_type": "markdown",
      "source": [
        "**Q8-How do you manage sessions in Flask?**"
      ],
      "metadata": {
        "id": "L_EXX2XuNRlx"
      }
    },
    {
      "cell_type": "code",
      "source": [
        "from flask import Flask, session, redirect, url_for, request, render_template\n",
        "\n",
        "app = Flask(__name__)\n",
        "app.secret_key = \"supersecretkey\"  # Required to sign session cookies\n",
        "\n",
        "@app.route('/')\n",
        "def home():\n",
        "    # Check if user is logged in\n",
        "    if 'username' in session:\n",
        "        return f\"Welcome back, {session['username']}!\"\n",
        "    return \"You are not logged in. <a href='/login'>Login here</a>\"\n",
        "\n",
        "@app.route('/login', methods=['GET', 'POST'])\n",
        "def login():\n",
        "    if request.method == 'POST':\n",
        "        session['username'] = request.form['username']  # Store data in session\n",
        "        return redirect(url_for('home'))\n",
        "    return '''\n",
        "        <form method=\"POST\">\n",
        "            <p><input type=\"text\" name=\"username\" placeholder=\"Enter your name\">\n",
        "            <p><button type=\"submit\">Login</button>\n",
        "        </form>\n",
        "    '''\n",
        "\n",
        "@app.route('/logout')\n",
        "def logout():\n",
        "    session.pop('username', None)  # Remove username from session\n",
        "    return redirect(url_for('home'))\n",
        "\n",
        "if __name__ == '__main__':\n",
        "    app.run(debug=True)\n"
      ],
      "metadata": {
        "id": "OEMPw297USDN"
      },
      "execution_count": null,
      "outputs": []
    },
    {
      "cell_type": "markdown",
      "source": [
        "**Q9-How do you redirect to a different route in Flask?"
      ],
      "metadata": {
        "id": "K_J6LJbkNRjH"
      }
    },
    {
      "cell_type": "code",
      "source": [
        "from flask import Flask, redirect, url_for\n",
        "\n",
        "app = Flask(__name__)\n",
        "\n",
        "@app.route('/')\n",
        "def home():\n",
        "    return \"This is the Home Page\"\n",
        "\n",
        "@app.route('/login')\n",
        "def login():\n",
        "    # After login, redirect to the dashboard\n",
        "    return redirect(url_for('dashboard'))\n",
        "\n",
        "@app.route('/dashboard')\n",
        "def dashboard():\n",
        "    return \"Welcome to your Dashboard!\"\n",
        "\n",
        "if __name__ == '__main__':\n",
        "    app.run(debug=True)\n"
      ],
      "metadata": {
        "id": "IwHPHzzWUSey"
      },
      "execution_count": null,
      "outputs": []
    },
    {
      "cell_type": "markdown",
      "source": [
        "**Q10- How do you handle errors in Flask (e.g., 404)?"
      ],
      "metadata": {
        "id": "qcODflKLNRgd"
      }
    },
    {
      "cell_type": "code",
      "source": [
        "from flask import Flask, render_template\n",
        "\n",
        "app = Flask(__name__)\n",
        "\n",
        "@app.route('/')\n",
        "def home():\n",
        "    return \"Welcome to the Home Page!\"\n",
        "\n",
        "# Handle 404 Not Found\n",
        "@app.errorhandler(404)\n",
        "def page_not_found(error):\n",
        "    return render_template('404.html'), 404\n",
        "\n",
        "# Handle 500 Internal Server Error\n",
        "@app.errorhandler(500)\n",
        "def internal_error(error):\n",
        "    return render_template('500.html'), 500\n",
        "\n",
        "if __name__ == '__main__':\n",
        "    app.run(debug=True)\n"
      ],
      "metadata": {
        "id": "pUF9eTkwUS6n"
      },
      "execution_count": null,
      "outputs": []
    },
    {
      "cell_type": "markdown",
      "source": [
        "**Q11- How do you structure a Flask app using Blueprints?**"
      ],
      "metadata": {
        "id": "jtMxgNJpNReT"
      }
    },
    {
      "cell_type": "code",
      "source": [
        "from flask import Flask\n",
        "from auth.routes import auth_bp\n",
        "from blog.routes import blog_bp\n",
        "\n",
        "app = Flask(__name__)\n",
        "\n",
        "# Register Blueprints\n",
        "app.register_blueprint(auth_bp, url_prefix=\"/auth\")\n",
        "app.register_blueprint(blog_bp, url_prefix=\"/blog\")\n",
        "\n",
        "@app.route('/')\n",
        "def home():\n",
        "    return \"Welcome to the Main Home Page!\"\n",
        "\n",
        "if __name__ == '__main__':\n",
        "    app.run(debug=True)\n"
      ],
      "metadata": {
        "id": "rC393WdMUTV0"
      },
      "execution_count": null,
      "outputs": []
    },
    {
      "cell_type": "markdown",
      "source": [
        "**Q12-How do you define a custom Jinja filter in Flask?**"
      ],
      "metadata": {
        "id": "YGI5KmUfNRbu"
      }
    },
    {
      "cell_type": "code",
      "source": [
        "from flask import Flask, render_template\n",
        "\n",
        "app = Flask(__name__)\n",
        "\n",
        "# Define a custom filter to reverse a string\n",
        "@app.template_filter('reverse')\n",
        "def reverse_filter(s):\n",
        "    return s[::-1]\n",
        "\n",
        "@app.route('/')\n",
        "def home():\n",
        "    return render_template('index.html', name=\"Flask\")\n",
        "\n",
        "if __name__ == '__main__':\n",
        "    app.run(debug=True)\n"
      ],
      "metadata": {
        "id": "561O_FkKUT3i"
      },
      "execution_count": null,
      "outputs": []
    },
    {
      "cell_type": "markdown",
      "source": [
        "**Q13- How can you redirect with query parameters in Flask?**"
      ],
      "metadata": {
        "id": "XBdB70ZKNRZK"
      }
    },
    {
      "cell_type": "code",
      "source": [
        "from flask import Flask, redirect, url_for, request\n",
        "\n",
        "app = Flask(__name__)\n",
        "\n",
        "@app.route('/')\n",
        "def home():\n",
        "    return \"Welcome to the Home Page!\"\n",
        "\n",
        "@app.route('/search')\n",
        "def search():\n",
        "    query = request.args.get('q')\n",
        "    return f\"Search results for: {query}\"\n",
        "\n",
        "@app.route('/go')\n",
        "def go():\n",
        "    # Redirect to /search with query parameter ?q=flask\n",
        "    return redirect(url_for('search', q='flask'))\n",
        "\n",
        "if __name__ == '__main__':\n",
        "    app.run(debug=True)\n"
      ],
      "metadata": {
        "id": "HcYgcspDUUPn"
      },
      "execution_count": null,
      "outputs": []
    },
    {
      "cell_type": "markdown",
      "source": [
        "**Q14-How do you return JSON responses in Flask?**"
      ],
      "metadata": {
        "id": "mfofXuJbNRWz"
      }
    },
    {
      "cell_type": "code",
      "source": [
        "from flask import Flask, jsonify\n",
        "\n",
        "app = Flask(__name__)\n",
        "\n",
        "@app.route('/user')\n",
        "def user():\n",
        "    data = {\n",
        "        \"name\": \"Alice\",\n",
        "        \"age\": 25,\n",
        "        \"is_admin\": False\n",
        "    }\n",
        "    return jsonify(data)   # Converts dict → JSON\n",
        "\n",
        "if __name__ == '__main__':\n",
        "    app.run(debug=True)\n"
      ],
      "metadata": {
        "id": "zOMZIm4JUUn9"
      },
      "execution_count": null,
      "outputs": []
    },
    {
      "cell_type": "markdown",
      "source": [
        "**Q15-How do you capture URL parameters in Flask?**"
      ],
      "metadata": {
        "id": "XdttQeIUNRUQ"
      }
    },
    {
      "cell_type": "code",
      "source": [
        "from flask import Flask\n",
        "\n",
        "app = Flask(__name__)\n",
        "\n",
        "@app.route('/user/<username>')\n",
        "def show_user(username):\n",
        "    return f\"Hello, {username}!\"\n",
        "\n",
        "@app.route('/post/<int:post_id>')\n",
        "def show_post(post_id):\n",
        "    return f\"Viewing post with ID: {post_id}\"\n",
        "\n",
        "if __name__ == '__main__':\n",
        "    app.run(debug=True)\n"
      ],
      "metadata": {
        "id": "7qr9MWoqUVAV"
      },
      "execution_count": null,
      "outputs": []
    }
  ]
}